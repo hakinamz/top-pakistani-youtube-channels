{
  "nbformat": 4,
  "nbformat_minor": 0,
  "metadata": {
    "colab": {
      "name": "pakistani top youtubers",
      "provenance": []
    },
    "kernelspec": {
      "name": "python3",
      "display_name": "Python 3"
    },
    "language_info": {
      "name": "python"
    }
  },
  "cells": [
    {
      "cell_type": "code",
      "metadata": {
        "colab": {
          "resources": {
            "http://localhost:8080/nbextensions/google.colab/files.js": {
              "data": "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",
              "ok": true,
              "headers": [
                [
                  "content-type",
                  "application/javascript"
                ]
              ],
              "status": 200,
              "status_text": ""
            }
          },
          "base_uri": "https://localhost:8080/",
          "height": 73
        },
        "id": "5BUUcNT1xEWC",
        "outputId": "21062d88-e47a-49bc-fdaa-adb7f4529154"
      },
      "source": [
        "from google.colab import files\n",
        "uploaded = files.upload()"
      ],
      "execution_count": 1,
      "outputs": [
        {
          "output_type": "display_data",
          "data": {
            "text/html": [
              "\n",
              "     <input type=\"file\" id=\"files-d3d20153-3ed9-4bc8-a122-d442d0d69095\" name=\"files[]\" multiple disabled\n",
              "        style=\"border:none\" />\n",
              "     <output id=\"result-d3d20153-3ed9-4bc8-a122-d442d0d69095\">\n",
              "      Upload widget is only available when the cell has been executed in the\n",
              "      current browser session. Please rerun this cell to enable.\n",
              "      </output>\n",
              "      <script src=\"/nbextensions/google.colab/files.js\"></script> "
            ],
            "text/plain": [
              "<IPython.core.display.HTML object>"
            ]
          },
          "metadata": {
            "tags": []
          }
        },
        {
          "output_type": "stream",
          "text": [
            "Saving Pakistan Top 250 YouTube Channels.csv to Pakistan Top 250 YouTube Channels.csv\n"
          ],
          "name": "stdout"
        }
      ]
    },
    {
      "cell_type": "code",
      "metadata": {
        "id": "lMBR6pzByX7a"
      },
      "source": [
        "#import liabraries\n",
        "\n",
        "import numpy as np # linear algebra\n",
        "import pandas as pd # data processing, CSV file I/O (e.g. pd.read_csv)\n",
        "import matplotlib.pyplot as plt"
      ],
      "execution_count": 2,
      "outputs": []
    },
    {
      "cell_type": "code",
      "metadata": {
        "colab": {
          "base_uri": "https://localhost:8080/",
          "height": 407
        },
        "id": "IrDUIvmKycOR",
        "outputId": "ecb67868-f802-42f3-cde3-9c3239b72129"
      },
      "source": [
        "df=pd.read_csv('Pakistan Top 250 YouTube Channels.csv')\n",
        "df"
      ],
      "execution_count": 3,
      "outputs": [
        {
          "output_type": "execute_result",
          "data": {
            "text/html": [
              "<div>\n",
              "<style scoped>\n",
              "    .dataframe tbody tr th:only-of-type {\n",
              "        vertical-align: middle;\n",
              "    }\n",
              "\n",
              "    .dataframe tbody tr th {\n",
              "        vertical-align: top;\n",
              "    }\n",
              "\n",
              "    .dataframe thead th {\n",
              "        text-align: right;\n",
              "    }\n",
              "</style>\n",
              "<table border=\"1\" class=\"dataframe\">\n",
              "  <thead>\n",
              "    <tr style=\"text-align: right;\">\n",
              "      <th></th>\n",
              "      <th>Top #</th>\n",
              "      <th>Twitter</th>\n",
              "    </tr>\n",
              "  </thead>\n",
              "  <tbody>\n",
              "    <tr>\n",
              "      <th>0</th>\n",
              "      <td>1</td>\n",
              "      <td>ARY Digital,Entertainment,19.2M</td>\n",
              "    </tr>\n",
              "    <tr>\n",
              "      <th>1</th>\n",
              "      <td>2</td>\n",
              "      <td>HAR PAL GEO,Entertainment,14.4M</td>\n",
              "    </tr>\n",
              "    <tr>\n",
              "      <th>2</th>\n",
              "      <td>3</td>\n",
              "      <td>TRT Ertugrul by PTV,Entertainment,12.3M</td>\n",
              "    </tr>\n",
              "    <tr>\n",
              "      <th>3</th>\n",
              "      <td>4</td>\n",
              "      <td>HUM TV,Entertainment,12.2M</td>\n",
              "    </tr>\n",
              "    <tr>\n",
              "      <th>4</th>\n",
              "      <td>5</td>\n",
              "      <td>Coke Studio,Music,9.82M</td>\n",
              "    </tr>\n",
              "    <tr>\n",
              "      <th>...</th>\n",
              "      <td>...</td>\n",
              "      <td>...</td>\n",
              "    </tr>\n",
              "    <tr>\n",
              "      <th>245</th>\n",
              "      <td>246</td>\n",
              "      <td>Masala Tv Recipes,Howto &amp; Style,734K</td>\n",
              "    </tr>\n",
              "    <tr>\n",
              "      <th>246</th>\n",
              "      <td>247</td>\n",
              "      <td>WWF - Pakistan,Nonprofits &amp; Activism,731K</td>\n",
              "    </tr>\n",
              "    <tr>\n",
              "      <th>247</th>\n",
              "      <td>248</td>\n",
              "      <td>AapNewsPK,News &amp; Politics,731K</td>\n",
              "    </tr>\n",
              "    <tr>\n",
              "      <th>248</th>\n",
              "      <td>249</td>\n",
              "      <td>Naeem aw Rameez,Entertainment,729K</td>\n",
              "    </tr>\n",
              "    <tr>\n",
              "      <th>249</th>\n",
              "      <td>250</td>\n",
              "      <td>Zawar Motors,Autos &amp; Vehicles,726K</td>\n",
              "    </tr>\n",
              "  </tbody>\n",
              "</table>\n",
              "<p>250 rows × 2 columns</p>\n",
              "</div>"
            ],
            "text/plain": [
              "     Top #                                   Twitter \n",
              "0        1            ARY Digital,Entertainment,19.2M\n",
              "1        2            HAR PAL GEO,Entertainment,14.4M\n",
              "2        3    TRT Ertugrul by PTV,Entertainment,12.3M\n",
              "3        4                 HUM TV,Entertainment,12.2M\n",
              "4        5                    Coke Studio,Music,9.82M\n",
              "..     ...                                        ...\n",
              "245    246       Masala Tv Recipes,Howto & Style,734K\n",
              "246    247  WWF - Pakistan,Nonprofits & Activism,731K\n",
              "247    248             AapNewsPK,News & Politics,731K\n",
              "248    249         Naeem aw Rameez,Entertainment,729K\n",
              "249    250         Zawar Motors,Autos & Vehicles,726K\n",
              "\n",
              "[250 rows x 2 columns]"
            ]
          },
          "metadata": {
            "tags": []
          },
          "execution_count": 3
        }
      ]
    },
    {
      "cell_type": "code",
      "metadata": {
        "colab": {
          "base_uri": "https://localhost:8080/"
        },
        "id": "Aj3DCtnoyrhH",
        "outputId": "82679dfe-2f95-4304-b3e4-948b1bdb8f68"
      },
      "source": [
        "df.isnull().sum()"
      ],
      "execution_count": 4,
      "outputs": [
        {
          "output_type": "execute_result",
          "data": {
            "text/plain": [
              "Top #       0\n",
              "Twitter     0\n",
              "dtype: int64"
            ]
          },
          "metadata": {
            "tags": []
          },
          "execution_count": 4
        }
      ]
    },
    {
      "cell_type": "code",
      "metadata": {
        "colab": {
          "base_uri": "https://localhost:8080/"
        },
        "id": "DKd3XzrSy0UV",
        "outputId": "132de46e-17f6-41d5-f81d-0411faf7bd05"
      },
      "source": [
        "df.columns"
      ],
      "execution_count": 5,
      "outputs": [
        {
          "output_type": "execute_result",
          "data": {
            "text/plain": [
              "Index(['Top #', 'Twitter '], dtype='object')"
            ]
          },
          "metadata": {
            "tags": []
          },
          "execution_count": 5
        }
      ]
    },
    {
      "cell_type": "code",
      "metadata": {
        "colab": {
          "base_uri": "https://localhost:8080/",
          "height": 407
        },
        "id": "2d-lFMToy686",
        "outputId": "ad73e59b-e687-4f3a-ac1d-d043f3c20896"
      },
      "source": [
        "df.drop('Top #',axis=1,inplace=True)\n",
        "df"
      ],
      "execution_count": 6,
      "outputs": [
        {
          "output_type": "execute_result",
          "data": {
            "text/html": [
              "<div>\n",
              "<style scoped>\n",
              "    .dataframe tbody tr th:only-of-type {\n",
              "        vertical-align: middle;\n",
              "    }\n",
              "\n",
              "    .dataframe tbody tr th {\n",
              "        vertical-align: top;\n",
              "    }\n",
              "\n",
              "    .dataframe thead th {\n",
              "        text-align: right;\n",
              "    }\n",
              "</style>\n",
              "<table border=\"1\" class=\"dataframe\">\n",
              "  <thead>\n",
              "    <tr style=\"text-align: right;\">\n",
              "      <th></th>\n",
              "      <th>Twitter</th>\n",
              "    </tr>\n",
              "  </thead>\n",
              "  <tbody>\n",
              "    <tr>\n",
              "      <th>0</th>\n",
              "      <td>ARY Digital,Entertainment,19.2M</td>\n",
              "    </tr>\n",
              "    <tr>\n",
              "      <th>1</th>\n",
              "      <td>HAR PAL GEO,Entertainment,14.4M</td>\n",
              "    </tr>\n",
              "    <tr>\n",
              "      <th>2</th>\n",
              "      <td>TRT Ertugrul by PTV,Entertainment,12.3M</td>\n",
              "    </tr>\n",
              "    <tr>\n",
              "      <th>3</th>\n",
              "      <td>HUM TV,Entertainment,12.2M</td>\n",
              "    </tr>\n",
              "    <tr>\n",
              "      <th>4</th>\n",
              "      <td>Coke Studio,Music,9.82M</td>\n",
              "    </tr>\n",
              "    <tr>\n",
              "      <th>...</th>\n",
              "      <td>...</td>\n",
              "    </tr>\n",
              "    <tr>\n",
              "      <th>245</th>\n",
              "      <td>Masala Tv Recipes,Howto &amp; Style,734K</td>\n",
              "    </tr>\n",
              "    <tr>\n",
              "      <th>246</th>\n",
              "      <td>WWF - Pakistan,Nonprofits &amp; Activism,731K</td>\n",
              "    </tr>\n",
              "    <tr>\n",
              "      <th>247</th>\n",
              "      <td>AapNewsPK,News &amp; Politics,731K</td>\n",
              "    </tr>\n",
              "    <tr>\n",
              "      <th>248</th>\n",
              "      <td>Naeem aw Rameez,Entertainment,729K</td>\n",
              "    </tr>\n",
              "    <tr>\n",
              "      <th>249</th>\n",
              "      <td>Zawar Motors,Autos &amp; Vehicles,726K</td>\n",
              "    </tr>\n",
              "  </tbody>\n",
              "</table>\n",
              "<p>250 rows × 1 columns</p>\n",
              "</div>"
            ],
            "text/plain": [
              "                                      Twitter \n",
              "0              ARY Digital,Entertainment,19.2M\n",
              "1              HAR PAL GEO,Entertainment,14.4M\n",
              "2      TRT Ertugrul by PTV,Entertainment,12.3M\n",
              "3                   HUM TV,Entertainment,12.2M\n",
              "4                      Coke Studio,Music,9.82M\n",
              "..                                         ...\n",
              "245       Masala Tv Recipes,Howto & Style,734K\n",
              "246  WWF - Pakistan,Nonprofits & Activism,731K\n",
              "247             AapNewsPK,News & Politics,731K\n",
              "248         Naeem aw Rameez,Entertainment,729K\n",
              "249         Zawar Motors,Autos & Vehicles,726K\n",
              "\n",
              "[250 rows x 1 columns]"
            ]
          },
          "metadata": {
            "tags": []
          },
          "execution_count": 6
        }
      ]
    },
    {
      "cell_type": "code",
      "metadata": {
        "colab": {
          "base_uri": "https://localhost:8080/",
          "height": 407
        },
        "id": "0QUI3TTrzG_p",
        "outputId": "52e12d32-19b6-415d-8886-982b352a7c00"
      },
      "source": [
        "#change the name of coloums 'Twitter\n",
        "df.rename(columns={'Twitter ':'Twitter'},inplace=True)\n",
        "df"
      ],
      "execution_count": 7,
      "outputs": [
        {
          "output_type": "execute_result",
          "data": {
            "text/html": [
              "<div>\n",
              "<style scoped>\n",
              "    .dataframe tbody tr th:only-of-type {\n",
              "        vertical-align: middle;\n",
              "    }\n",
              "\n",
              "    .dataframe tbody tr th {\n",
              "        vertical-align: top;\n",
              "    }\n",
              "\n",
              "    .dataframe thead th {\n",
              "        text-align: right;\n",
              "    }\n",
              "</style>\n",
              "<table border=\"1\" class=\"dataframe\">\n",
              "  <thead>\n",
              "    <tr style=\"text-align: right;\">\n",
              "      <th></th>\n",
              "      <th>Twitter</th>\n",
              "    </tr>\n",
              "  </thead>\n",
              "  <tbody>\n",
              "    <tr>\n",
              "      <th>0</th>\n",
              "      <td>ARY Digital,Entertainment,19.2M</td>\n",
              "    </tr>\n",
              "    <tr>\n",
              "      <th>1</th>\n",
              "      <td>HAR PAL GEO,Entertainment,14.4M</td>\n",
              "    </tr>\n",
              "    <tr>\n",
              "      <th>2</th>\n",
              "      <td>TRT Ertugrul by PTV,Entertainment,12.3M</td>\n",
              "    </tr>\n",
              "    <tr>\n",
              "      <th>3</th>\n",
              "      <td>HUM TV,Entertainment,12.2M</td>\n",
              "    </tr>\n",
              "    <tr>\n",
              "      <th>4</th>\n",
              "      <td>Coke Studio,Music,9.82M</td>\n",
              "    </tr>\n",
              "    <tr>\n",
              "      <th>...</th>\n",
              "      <td>...</td>\n",
              "    </tr>\n",
              "    <tr>\n",
              "      <th>245</th>\n",
              "      <td>Masala Tv Recipes,Howto &amp; Style,734K</td>\n",
              "    </tr>\n",
              "    <tr>\n",
              "      <th>246</th>\n",
              "      <td>WWF - Pakistan,Nonprofits &amp; Activism,731K</td>\n",
              "    </tr>\n",
              "    <tr>\n",
              "      <th>247</th>\n",
              "      <td>AapNewsPK,News &amp; Politics,731K</td>\n",
              "    </tr>\n",
              "    <tr>\n",
              "      <th>248</th>\n",
              "      <td>Naeem aw Rameez,Entertainment,729K</td>\n",
              "    </tr>\n",
              "    <tr>\n",
              "      <th>249</th>\n",
              "      <td>Zawar Motors,Autos &amp; Vehicles,726K</td>\n",
              "    </tr>\n",
              "  </tbody>\n",
              "</table>\n",
              "<p>250 rows × 1 columns</p>\n",
              "</div>"
            ],
            "text/plain": [
              "                                       Twitter\n",
              "0              ARY Digital,Entertainment,19.2M\n",
              "1              HAR PAL GEO,Entertainment,14.4M\n",
              "2      TRT Ertugrul by PTV,Entertainment,12.3M\n",
              "3                   HUM TV,Entertainment,12.2M\n",
              "4                      Coke Studio,Music,9.82M\n",
              "..                                         ...\n",
              "245       Masala Tv Recipes,Howto & Style,734K\n",
              "246  WWF - Pakistan,Nonprofits & Activism,731K\n",
              "247             AapNewsPK,News & Politics,731K\n",
              "248         Naeem aw Rameez,Entertainment,729K\n",
              "249         Zawar Motors,Autos & Vehicles,726K\n",
              "\n",
              "[250 rows x 1 columns]"
            ]
          },
          "metadata": {
            "tags": []
          },
          "execution_count": 7
        }
      ]
    },
    {
      "cell_type": "code",
      "metadata": {
        "colab": {
          "base_uri": "https://localhost:8080/"
        },
        "id": "CPs_pvdxzgGP",
        "outputId": "90fd1bc6-6b18-4ae9-9da8-01f5358fe1fe"
      },
      "source": [
        "df.columns"
      ],
      "execution_count": 8,
      "outputs": [
        {
          "output_type": "execute_result",
          "data": {
            "text/plain": [
              "Index(['Twitter'], dtype='object')"
            ]
          },
          "metadata": {
            "tags": []
          },
          "execution_count": 8
        }
      ]
    },
    {
      "cell_type": "code",
      "metadata": {
        "colab": {
          "base_uri": "https://localhost:8080/",
          "height": 407
        },
        "id": "S7W0KpxHzj7c",
        "outputId": "e6fcef50-7471-4c72-e7d6-1d3af9806792"
      },
      "source": [
        "# we will create two new columns for account category and subscribers count by splitting the Twitter column\n",
        "df.Twitter.str.split(',',expand=True)"
      ],
      "execution_count": 9,
      "outputs": [
        {
          "output_type": "execute_result",
          "data": {
            "text/html": [
              "<div>\n",
              "<style scoped>\n",
              "    .dataframe tbody tr th:only-of-type {\n",
              "        vertical-align: middle;\n",
              "    }\n",
              "\n",
              "    .dataframe tbody tr th {\n",
              "        vertical-align: top;\n",
              "    }\n",
              "\n",
              "    .dataframe thead th {\n",
              "        text-align: right;\n",
              "    }\n",
              "</style>\n",
              "<table border=\"1\" class=\"dataframe\">\n",
              "  <thead>\n",
              "    <tr style=\"text-align: right;\">\n",
              "      <th></th>\n",
              "      <th>0</th>\n",
              "      <th>1</th>\n",
              "      <th>2</th>\n",
              "    </tr>\n",
              "  </thead>\n",
              "  <tbody>\n",
              "    <tr>\n",
              "      <th>0</th>\n",
              "      <td>ARY Digital</td>\n",
              "      <td>Entertainment</td>\n",
              "      <td>19.2M</td>\n",
              "    </tr>\n",
              "    <tr>\n",
              "      <th>1</th>\n",
              "      <td>HAR PAL GEO</td>\n",
              "      <td>Entertainment</td>\n",
              "      <td>14.4M</td>\n",
              "    </tr>\n",
              "    <tr>\n",
              "      <th>2</th>\n",
              "      <td>TRT Ertugrul by PTV</td>\n",
              "      <td>Entertainment</td>\n",
              "      <td>12.3M</td>\n",
              "    </tr>\n",
              "    <tr>\n",
              "      <th>3</th>\n",
              "      <td>HUM TV</td>\n",
              "      <td>Entertainment</td>\n",
              "      <td>12.2M</td>\n",
              "    </tr>\n",
              "    <tr>\n",
              "      <th>4</th>\n",
              "      <td>Coke Studio</td>\n",
              "      <td>Music</td>\n",
              "      <td>9.82M</td>\n",
              "    </tr>\n",
              "    <tr>\n",
              "      <th>...</th>\n",
              "      <td>...</td>\n",
              "      <td>...</td>\n",
              "      <td>...</td>\n",
              "    </tr>\n",
              "    <tr>\n",
              "      <th>245</th>\n",
              "      <td>Masala Tv Recipes</td>\n",
              "      <td>Howto &amp; Style</td>\n",
              "      <td>734K</td>\n",
              "    </tr>\n",
              "    <tr>\n",
              "      <th>246</th>\n",
              "      <td>WWF - Pakistan</td>\n",
              "      <td>Nonprofits &amp; Activism</td>\n",
              "      <td>731K</td>\n",
              "    </tr>\n",
              "    <tr>\n",
              "      <th>247</th>\n",
              "      <td>AapNewsPK</td>\n",
              "      <td>News &amp; Politics</td>\n",
              "      <td>731K</td>\n",
              "    </tr>\n",
              "    <tr>\n",
              "      <th>248</th>\n",
              "      <td>Naeem aw Rameez</td>\n",
              "      <td>Entertainment</td>\n",
              "      <td>729K</td>\n",
              "    </tr>\n",
              "    <tr>\n",
              "      <th>249</th>\n",
              "      <td>Zawar Motors</td>\n",
              "      <td>Autos &amp; Vehicles</td>\n",
              "      <td>726K</td>\n",
              "    </tr>\n",
              "  </tbody>\n",
              "</table>\n",
              "<p>250 rows × 3 columns</p>\n",
              "</div>"
            ],
            "text/plain": [
              "                       0                      1      2\n",
              "0            ARY Digital          Entertainment  19.2M\n",
              "1            HAR PAL GEO          Entertainment  14.4M\n",
              "2    TRT Ertugrul by PTV          Entertainment  12.3M\n",
              "3                 HUM TV          Entertainment  12.2M\n",
              "4            Coke Studio                  Music  9.82M\n",
              "..                   ...                    ...    ...\n",
              "245    Masala Tv Recipes          Howto & Style   734K\n",
              "246       WWF - Pakistan  Nonprofits & Activism   731K\n",
              "247            AapNewsPK        News & Politics   731K\n",
              "248      Naeem aw Rameez          Entertainment   729K\n",
              "249         Zawar Motors       Autos & Vehicles   726K\n",
              "\n",
              "[250 rows x 3 columns]"
            ]
          },
          "metadata": {
            "tags": []
          },
          "execution_count": 9
        }
      ]
    },
    {
      "cell_type": "code",
      "metadata": {
        "colab": {
          "base_uri": "https://localhost:8080/",
          "height": 407
        },
        "id": "lB_BsVsdzzvk",
        "outputId": "ca16afbe-91b5-41fc-e022-51eebce8aa5d"
      },
      "source": [
        "df[['Name','Category','Subscribers']]=df.Twitter.str.split(',',expand=True)\n",
        "df"
      ],
      "execution_count": 10,
      "outputs": [
        {
          "output_type": "execute_result",
          "data": {
            "text/html": [
              "<div>\n",
              "<style scoped>\n",
              "    .dataframe tbody tr th:only-of-type {\n",
              "        vertical-align: middle;\n",
              "    }\n",
              "\n",
              "    .dataframe tbody tr th {\n",
              "        vertical-align: top;\n",
              "    }\n",
              "\n",
              "    .dataframe thead th {\n",
              "        text-align: right;\n",
              "    }\n",
              "</style>\n",
              "<table border=\"1\" class=\"dataframe\">\n",
              "  <thead>\n",
              "    <tr style=\"text-align: right;\">\n",
              "      <th></th>\n",
              "      <th>Twitter</th>\n",
              "      <th>Name</th>\n",
              "      <th>Category</th>\n",
              "      <th>Subscribers</th>\n",
              "    </tr>\n",
              "  </thead>\n",
              "  <tbody>\n",
              "    <tr>\n",
              "      <th>0</th>\n",
              "      <td>ARY Digital,Entertainment,19.2M</td>\n",
              "      <td>ARY Digital</td>\n",
              "      <td>Entertainment</td>\n",
              "      <td>19.2M</td>\n",
              "    </tr>\n",
              "    <tr>\n",
              "      <th>1</th>\n",
              "      <td>HAR PAL GEO,Entertainment,14.4M</td>\n",
              "      <td>HAR PAL GEO</td>\n",
              "      <td>Entertainment</td>\n",
              "      <td>14.4M</td>\n",
              "    </tr>\n",
              "    <tr>\n",
              "      <th>2</th>\n",
              "      <td>TRT Ertugrul by PTV,Entertainment,12.3M</td>\n",
              "      <td>TRT Ertugrul by PTV</td>\n",
              "      <td>Entertainment</td>\n",
              "      <td>12.3M</td>\n",
              "    </tr>\n",
              "    <tr>\n",
              "      <th>3</th>\n",
              "      <td>HUM TV,Entertainment,12.2M</td>\n",
              "      <td>HUM TV</td>\n",
              "      <td>Entertainment</td>\n",
              "      <td>12.2M</td>\n",
              "    </tr>\n",
              "    <tr>\n",
              "      <th>4</th>\n",
              "      <td>Coke Studio,Music,9.82M</td>\n",
              "      <td>Coke Studio</td>\n",
              "      <td>Music</td>\n",
              "      <td>9.82M</td>\n",
              "    </tr>\n",
              "    <tr>\n",
              "      <th>...</th>\n",
              "      <td>...</td>\n",
              "      <td>...</td>\n",
              "      <td>...</td>\n",
              "      <td>...</td>\n",
              "    </tr>\n",
              "    <tr>\n",
              "      <th>245</th>\n",
              "      <td>Masala Tv Recipes,Howto &amp; Style,734K</td>\n",
              "      <td>Masala Tv Recipes</td>\n",
              "      <td>Howto &amp; Style</td>\n",
              "      <td>734K</td>\n",
              "    </tr>\n",
              "    <tr>\n",
              "      <th>246</th>\n",
              "      <td>WWF - Pakistan,Nonprofits &amp; Activism,731K</td>\n",
              "      <td>WWF - Pakistan</td>\n",
              "      <td>Nonprofits &amp; Activism</td>\n",
              "      <td>731K</td>\n",
              "    </tr>\n",
              "    <tr>\n",
              "      <th>247</th>\n",
              "      <td>AapNewsPK,News &amp; Politics,731K</td>\n",
              "      <td>AapNewsPK</td>\n",
              "      <td>News &amp; Politics</td>\n",
              "      <td>731K</td>\n",
              "    </tr>\n",
              "    <tr>\n",
              "      <th>248</th>\n",
              "      <td>Naeem aw Rameez,Entertainment,729K</td>\n",
              "      <td>Naeem aw Rameez</td>\n",
              "      <td>Entertainment</td>\n",
              "      <td>729K</td>\n",
              "    </tr>\n",
              "    <tr>\n",
              "      <th>249</th>\n",
              "      <td>Zawar Motors,Autos &amp; Vehicles,726K</td>\n",
              "      <td>Zawar Motors</td>\n",
              "      <td>Autos &amp; Vehicles</td>\n",
              "      <td>726K</td>\n",
              "    </tr>\n",
              "  </tbody>\n",
              "</table>\n",
              "<p>250 rows × 4 columns</p>\n",
              "</div>"
            ],
            "text/plain": [
              "                                       Twitter  ... Subscribers\n",
              "0              ARY Digital,Entertainment,19.2M  ...       19.2M\n",
              "1              HAR PAL GEO,Entertainment,14.4M  ...       14.4M\n",
              "2      TRT Ertugrul by PTV,Entertainment,12.3M  ...       12.3M\n",
              "3                   HUM TV,Entertainment,12.2M  ...       12.2M\n",
              "4                      Coke Studio,Music,9.82M  ...       9.82M\n",
              "..                                         ...  ...         ...\n",
              "245       Masala Tv Recipes,Howto & Style,734K  ...        734K\n",
              "246  WWF - Pakistan,Nonprofits & Activism,731K  ...        731K\n",
              "247             AapNewsPK,News & Politics,731K  ...        731K\n",
              "248         Naeem aw Rameez,Entertainment,729K  ...        729K\n",
              "249         Zawar Motors,Autos & Vehicles,726K  ...        726K\n",
              "\n",
              "[250 rows x 4 columns]"
            ]
          },
          "metadata": {
            "tags": []
          },
          "execution_count": 10
        }
      ]
    },
    {
      "cell_type": "code",
      "metadata": {
        "colab": {
          "base_uri": "https://localhost:8080/"
        },
        "id": "RaMMggU7z31N",
        "outputId": "230a5778-93e3-4e8b-9242-a781fd9d9b04"
      },
      "source": [
        "df.isnull().sum()"
      ],
      "execution_count": 11,
      "outputs": [
        {
          "output_type": "execute_result",
          "data": {
            "text/plain": [
              "Twitter        0\n",
              "Name           0\n",
              "Category       0\n",
              "Subscribers    0\n",
              "dtype: int64"
            ]
          },
          "metadata": {
            "tags": []
          },
          "execution_count": 11
        }
      ]
    },
    {
      "cell_type": "code",
      "metadata": {
        "colab": {
          "base_uri": "https://localhost:8080/"
        },
        "id": "TG80E5RWz8DF",
        "outputId": "f83fcc9a-75c1-419e-c9a0-9e535a128dfb"
      },
      "source": [
        "df.Name.unique().size"
      ],
      "execution_count": 12,
      "outputs": [
        {
          "output_type": "execute_result",
          "data": {
            "text/plain": [
              "250"
            ]
          },
          "metadata": {
            "tags": []
          },
          "execution_count": 12
        }
      ]
    },
    {
      "cell_type": "code",
      "metadata": {
        "colab": {
          "base_uri": "https://localhost:8080/"
        },
        "id": "D2EwMQz3z_z9",
        "outputId": "51bc3766-a874-44d6-de20-6d57d0ea6506"
      },
      "source": [
        "#change Subscribers column type from str to int\n",
        "df.replace({\n",
        "    'Subscribers': '[A-Za-z]',\n",
        "},'',regex=True,inplace=True)\n",
        "df['Subscribers'] = pd.to_numeric(df['Subscribers'])\n",
        "df['Subscribers']"
      ],
      "execution_count": 13,
      "outputs": [
        {
          "output_type": "execute_result",
          "data": {
            "text/plain": [
              "0       19.20\n",
              "1       14.40\n",
              "2       12.30\n",
              "3       12.20\n",
              "4        9.82\n",
              "        ...  \n",
              "245    734.00\n",
              "246    731.00\n",
              "247    731.00\n",
              "248    729.00\n",
              "249    726.00\n",
              "Name: Subscribers, Length: 250, dtype: float64"
            ]
          },
          "metadata": {
            "tags": []
          },
          "execution_count": 13
        }
      ]
    },
    {
      "cell_type": "code",
      "metadata": {
        "colab": {
          "base_uri": "https://localhost:8080/"
        },
        "id": "2b7DLO3J0f2I",
        "outputId": "cf2c306e-ea86-4afa-cf10-bb4b99a6f9f8"
      },
      "source": [
        "calcarr=df['Subscribers'].to_numpy()\n",
        "calcarr"
      ],
      "execution_count": 14,
      "outputs": [
        {
          "output_type": "execute_result",
          "data": {
            "text/plain": [
              "array([ 19.2 ,  14.4 ,  12.3 ,  12.2 ,   9.82,   8.7 ,   7.22,   6.78,\n",
              "         6.43,   6.02,   5.17,   5.15,   4.94,   4.91,   4.73,   4.44,\n",
              "         4.25,   4.24,   4.02,   3.98,   3.92,   3.87,   3.82,   3.68,\n",
              "         3.66,   3.57,   3.53,   3.42,   3.25,   3.24,   3.16,   3.05,\n",
              "         3.03,   3.02,   2.9 ,   2.88,   2.84,   2.81,   2.76,   2.75,\n",
              "         2.71,   2.67,   2.66,   2.59,   2.52,   2.45,   2.42,   2.41,\n",
              "         2.39,   2.35,   2.28,   2.27,   2.2 ,   2.19,   2.18,   2.17,\n",
              "         2.16,   2.14,   2.14,   2.13,   2.12,   2.07,   2.07,   2.06,\n",
              "         2.  ,   1.99,   1.96,   1.95,   1.94,   1.94,   1.91,   1.87,\n",
              "         1.87,   1.86,   1.86,   1.83,   1.82,   1.82,   1.81,   1.81,\n",
              "         1.79,   1.78,   1.78,   1.73,   1.72,   1.71,   1.7 ,   1.7 ,\n",
              "         1.68,   1.66,   1.66,   1.63,   1.63,   1.61,   1.6 ,   1.6 ,\n",
              "         1.6 ,   1.57,   1.57,   1.54,   1.51,   1.51,   1.5 ,   1.5 ,\n",
              "         1.48,   1.48,   1.47,   1.47,   1.46,   1.46,   1.45,   1.43,\n",
              "         1.39,   1.39,   1.38,   1.37,   1.36,   1.35,   1.34,   1.34,\n",
              "         1.31,   1.31,   1.28,   1.27,   1.27,   1.25,   1.24,   1.24,\n",
              "         1.23,   1.22,   1.21,   1.19,   1.19,   1.19,   1.18,   1.18,\n",
              "         1.18,   1.18,   1.18,   1.17,   1.16,   1.15,   1.15,   1.14,\n",
              "         1.14,   1.13,   1.13,   1.12,   1.1 ,   1.1 ,   1.1 ,   1.09,\n",
              "         1.08,   1.08,   1.08,   1.08,   1.07,   1.07,   1.07,   1.06,\n",
              "         1.05,   1.05,   1.05,   1.04,   1.04,   1.03,   1.03,   1.01,\n",
              "         1.01,   1.  ,   1.  ,   1.  , 992.  , 988.  , 982.  , 981.  ,\n",
              "       978.  , 969.  , 960.  , 960.  , 951.  , 948.  , 946.  , 946.  ,\n",
              "       942.  , 941.  , 939.  , 939.  , 922.  , 921.  , 908.  , 907.  ,\n",
              "       901.  , 899.  , 888.  , 888.  , 884.  , 876.  , 874.  , 873.  ,\n",
              "       865.  , 861.  , 853.  , 851.  , 840.  , 838.  , 837.  , 837.  ,\n",
              "       835.  , 831.  , 826.  , 821.  , 820.  , 813.  , 802.  , 799.  ,\n",
              "       797.  , 796.  , 793.  , 792.  , 790.  , 788.  , 786.  , 781.  ,\n",
              "       780.  , 776.  , 776.  , 774.  , 771.  , 769.  , 767.  , 764.  ,\n",
              "       762.  , 757.  , 756.  , 755.  , 753.  , 752.  , 751.  , 751.  ,\n",
              "       750.  , 748.  , 746.  , 743.  , 739.  , 734.  , 731.  , 731.  ,\n",
              "       729.  , 726.  ])"
            ]
          },
          "metadata": {
            "tags": []
          },
          "execution_count": 14
        }
      ]
    },
    {
      "cell_type": "code",
      "metadata": {
        "colab": {
          "base_uri": "https://localhost:8080/"
        },
        "id": "QTXaQPGY0ly7",
        "outputId": "dc824f47-2bd8-49fa-bf9b-08d350793c1d"
      },
      "source": [
        "with np.nditer(calcarr, op_flags=['readwrite']) as arr:\n",
        "    for n in arr:\n",
        "        if(n<100):\n",
        "            n[...] = n*1000000\n",
        "        else:\n",
        "            n[...] = n*1000    \n",
        "calcarr"
      ],
      "execution_count": 15,
      "outputs": [
        {
          "output_type": "execute_result",
          "data": {
            "text/plain": [
              "array([19200000., 14400000., 12300000., 12200000.,  9820000.,  8700000.,\n",
              "        7220000.,  6780000.,  6430000.,  6020000.,  5170000.,  5150000.,\n",
              "        4940000.,  4910000.,  4730000.,  4440000.,  4250000.,  4240000.,\n",
              "        4020000.,  3980000.,  3920000.,  3870000.,  3820000.,  3680000.,\n",
              "        3660000.,  3570000.,  3530000.,  3420000.,  3250000.,  3240000.,\n",
              "        3160000.,  3050000.,  3030000.,  3020000.,  2900000.,  2880000.,\n",
              "        2840000.,  2810000.,  2760000.,  2750000.,  2710000.,  2670000.,\n",
              "        2660000.,  2590000.,  2520000.,  2450000.,  2420000.,  2410000.,\n",
              "        2390000.,  2350000.,  2280000.,  2270000.,  2200000.,  2190000.,\n",
              "        2180000.,  2170000.,  2160000.,  2140000.,  2140000.,  2130000.,\n",
              "        2120000.,  2070000.,  2070000.,  2060000.,  2000000.,  1990000.,\n",
              "        1960000.,  1950000.,  1940000.,  1940000.,  1910000.,  1870000.,\n",
              "        1870000.,  1860000.,  1860000.,  1830000.,  1820000.,  1820000.,\n",
              "        1810000.,  1810000.,  1790000.,  1780000.,  1780000.,  1730000.,\n",
              "        1720000.,  1710000.,  1700000.,  1700000.,  1680000.,  1660000.,\n",
              "        1660000.,  1630000.,  1630000.,  1610000.,  1600000.,  1600000.,\n",
              "        1600000.,  1570000.,  1570000.,  1540000.,  1510000.,  1510000.,\n",
              "        1500000.,  1500000.,  1480000.,  1480000.,  1470000.,  1470000.,\n",
              "        1460000.,  1460000.,  1450000.,  1430000.,  1390000.,  1390000.,\n",
              "        1380000.,  1370000.,  1360000.,  1350000.,  1340000.,  1340000.,\n",
              "        1310000.,  1310000.,  1280000.,  1270000.,  1270000.,  1250000.,\n",
              "        1240000.,  1240000.,  1230000.,  1220000.,  1210000.,  1190000.,\n",
              "        1190000.,  1190000.,  1180000.,  1180000.,  1180000.,  1180000.,\n",
              "        1180000.,  1170000.,  1160000.,  1150000.,  1150000.,  1140000.,\n",
              "        1140000.,  1130000.,  1130000.,  1120000.,  1100000.,  1100000.,\n",
              "        1100000.,  1090000.,  1080000.,  1080000.,  1080000.,  1080000.,\n",
              "        1070000.,  1070000.,  1070000.,  1060000.,  1050000.,  1050000.,\n",
              "        1050000.,  1040000.,  1040000.,  1030000.,  1030000.,  1010000.,\n",
              "        1010000.,  1000000.,  1000000.,  1000000.,   992000.,   988000.,\n",
              "         982000.,   981000.,   978000.,   969000.,   960000.,   960000.,\n",
              "         951000.,   948000.,   946000.,   946000.,   942000.,   941000.,\n",
              "         939000.,   939000.,   922000.,   921000.,   908000.,   907000.,\n",
              "         901000.,   899000.,   888000.,   888000.,   884000.,   876000.,\n",
              "         874000.,   873000.,   865000.,   861000.,   853000.,   851000.,\n",
              "         840000.,   838000.,   837000.,   837000.,   835000.,   831000.,\n",
              "         826000.,   821000.,   820000.,   813000.,   802000.,   799000.,\n",
              "         797000.,   796000.,   793000.,   792000.,   790000.,   788000.,\n",
              "         786000.,   781000.,   780000.,   776000.,   776000.,   774000.,\n",
              "         771000.,   769000.,   767000.,   764000.,   762000.,   757000.,\n",
              "         756000.,   755000.,   753000.,   752000.,   751000.,   751000.,\n",
              "         750000.,   748000.,   746000.,   743000.,   739000.,   734000.,\n",
              "         731000.,   731000.,   729000.,   726000.])"
            ]
          },
          "metadata": {
            "tags": []
          },
          "execution_count": 15
        }
      ]
    },
    {
      "cell_type": "code",
      "metadata": {
        "colab": {
          "base_uri": "https://localhost:8080/",
          "height": 407
        },
        "id": "ZCw5TGUp0sB4",
        "outputId": "b3c9d63a-3b0f-4428-9295-441f6006b34f"
      },
      "source": [
        "df['Subscribers']=pd.Series(calcarr)\n",
        "df"
      ],
      "execution_count": 16,
      "outputs": [
        {
          "output_type": "execute_result",
          "data": {
            "text/html": [
              "<div>\n",
              "<style scoped>\n",
              "    .dataframe tbody tr th:only-of-type {\n",
              "        vertical-align: middle;\n",
              "    }\n",
              "\n",
              "    .dataframe tbody tr th {\n",
              "        vertical-align: top;\n",
              "    }\n",
              "\n",
              "    .dataframe thead th {\n",
              "        text-align: right;\n",
              "    }\n",
              "</style>\n",
              "<table border=\"1\" class=\"dataframe\">\n",
              "  <thead>\n",
              "    <tr style=\"text-align: right;\">\n",
              "      <th></th>\n",
              "      <th>Twitter</th>\n",
              "      <th>Name</th>\n",
              "      <th>Category</th>\n",
              "      <th>Subscribers</th>\n",
              "    </tr>\n",
              "  </thead>\n",
              "  <tbody>\n",
              "    <tr>\n",
              "      <th>0</th>\n",
              "      <td>ARY Digital,Entertainment,19.2M</td>\n",
              "      <td>ARY Digital</td>\n",
              "      <td>Entertainment</td>\n",
              "      <td>19200000.0</td>\n",
              "    </tr>\n",
              "    <tr>\n",
              "      <th>1</th>\n",
              "      <td>HAR PAL GEO,Entertainment,14.4M</td>\n",
              "      <td>HAR PAL GEO</td>\n",
              "      <td>Entertainment</td>\n",
              "      <td>14400000.0</td>\n",
              "    </tr>\n",
              "    <tr>\n",
              "      <th>2</th>\n",
              "      <td>TRT Ertugrul by PTV,Entertainment,12.3M</td>\n",
              "      <td>TRT Ertugrul by PTV</td>\n",
              "      <td>Entertainment</td>\n",
              "      <td>12300000.0</td>\n",
              "    </tr>\n",
              "    <tr>\n",
              "      <th>3</th>\n",
              "      <td>HUM TV,Entertainment,12.2M</td>\n",
              "      <td>HUM TV</td>\n",
              "      <td>Entertainment</td>\n",
              "      <td>12200000.0</td>\n",
              "    </tr>\n",
              "    <tr>\n",
              "      <th>4</th>\n",
              "      <td>Coke Studio,Music,9.82M</td>\n",
              "      <td>Coke Studio</td>\n",
              "      <td>Music</td>\n",
              "      <td>9820000.0</td>\n",
              "    </tr>\n",
              "    <tr>\n",
              "      <th>...</th>\n",
              "      <td>...</td>\n",
              "      <td>...</td>\n",
              "      <td>...</td>\n",
              "      <td>...</td>\n",
              "    </tr>\n",
              "    <tr>\n",
              "      <th>245</th>\n",
              "      <td>Masala Tv Recipes,Howto &amp; Style,734K</td>\n",
              "      <td>Masala Tv Recipes</td>\n",
              "      <td>Howto &amp; Style</td>\n",
              "      <td>734000.0</td>\n",
              "    </tr>\n",
              "    <tr>\n",
              "      <th>246</th>\n",
              "      <td>WWF - Pakistan,Nonprofits &amp; Activism,731K</td>\n",
              "      <td>WWF - Pakistan</td>\n",
              "      <td>Nonprofits &amp; Activism</td>\n",
              "      <td>731000.0</td>\n",
              "    </tr>\n",
              "    <tr>\n",
              "      <th>247</th>\n",
              "      <td>AapNewsPK,News &amp; Politics,731K</td>\n",
              "      <td>AapNewsPK</td>\n",
              "      <td>News &amp; Politics</td>\n",
              "      <td>731000.0</td>\n",
              "    </tr>\n",
              "    <tr>\n",
              "      <th>248</th>\n",
              "      <td>Naeem aw Rameez,Entertainment,729K</td>\n",
              "      <td>Naeem aw Rameez</td>\n",
              "      <td>Entertainment</td>\n",
              "      <td>729000.0</td>\n",
              "    </tr>\n",
              "    <tr>\n",
              "      <th>249</th>\n",
              "      <td>Zawar Motors,Autos &amp; Vehicles,726K</td>\n",
              "      <td>Zawar Motors</td>\n",
              "      <td>Autos &amp; Vehicles</td>\n",
              "      <td>726000.0</td>\n",
              "    </tr>\n",
              "  </tbody>\n",
              "</table>\n",
              "<p>250 rows × 4 columns</p>\n",
              "</div>"
            ],
            "text/plain": [
              "                                       Twitter  ... Subscribers\n",
              "0              ARY Digital,Entertainment,19.2M  ...  19200000.0\n",
              "1              HAR PAL GEO,Entertainment,14.4M  ...  14400000.0\n",
              "2      TRT Ertugrul by PTV,Entertainment,12.3M  ...  12300000.0\n",
              "3                   HUM TV,Entertainment,12.2M  ...  12200000.0\n",
              "4                      Coke Studio,Music,9.82M  ...   9820000.0\n",
              "..                                         ...  ...         ...\n",
              "245       Masala Tv Recipes,Howto & Style,734K  ...    734000.0\n",
              "246  WWF - Pakistan,Nonprofits & Activism,731K  ...    731000.0\n",
              "247             AapNewsPK,News & Politics,731K  ...    731000.0\n",
              "248         Naeem aw Rameez,Entertainment,729K  ...    729000.0\n",
              "249         Zawar Motors,Autos & Vehicles,726K  ...    726000.0\n",
              "\n",
              "[250 rows x 4 columns]"
            ]
          },
          "metadata": {
            "tags": []
          },
          "execution_count": 16
        }
      ]
    },
    {
      "cell_type": "code",
      "metadata": {
        "colab": {
          "base_uri": "https://localhost:8080/",
          "height": 528
        },
        "id": "8oAHtQ3U0xaf",
        "outputId": "a80d8c14-b4a4-4996-a502-4dc6a5d1e9fd"
      },
      "source": [
        "#data grouped by category\n",
        "dff=df.groupby(['Category'])\n",
        "dff.describe()"
      ],
      "execution_count": 17,
      "outputs": [
        {
          "output_type": "execute_result",
          "data": {
            "text/html": [
              "<div>\n",
              "<style scoped>\n",
              "    .dataframe tbody tr th:only-of-type {\n",
              "        vertical-align: middle;\n",
              "    }\n",
              "\n",
              "    .dataframe tbody tr th {\n",
              "        vertical-align: top;\n",
              "    }\n",
              "\n",
              "    .dataframe thead tr th {\n",
              "        text-align: left;\n",
              "    }\n",
              "\n",
              "    .dataframe thead tr:last-of-type th {\n",
              "        text-align: right;\n",
              "    }\n",
              "</style>\n",
              "<table border=\"1\" class=\"dataframe\">\n",
              "  <thead>\n",
              "    <tr>\n",
              "      <th></th>\n",
              "      <th colspan=\"8\" halign=\"left\">Subscribers</th>\n",
              "    </tr>\n",
              "    <tr>\n",
              "      <th></th>\n",
              "      <th>count</th>\n",
              "      <th>mean</th>\n",
              "      <th>std</th>\n",
              "      <th>min</th>\n",
              "      <th>25%</th>\n",
              "      <th>50%</th>\n",
              "      <th>75%</th>\n",
              "      <th>max</th>\n",
              "    </tr>\n",
              "    <tr>\n",
              "      <th>Category</th>\n",
              "      <th></th>\n",
              "      <th></th>\n",
              "      <th></th>\n",
              "      <th></th>\n",
              "      <th></th>\n",
              "      <th></th>\n",
              "      <th></th>\n",
              "      <th></th>\n",
              "    </tr>\n",
              "  </thead>\n",
              "  <tbody>\n",
              "    <tr>\n",
              "      <th>Autos &amp; Vehicles</th>\n",
              "      <td>2.0</td>\n",
              "      <td>9.380000e+05</td>\n",
              "      <td>2.998133e+05</td>\n",
              "      <td>726000.0</td>\n",
              "      <td>832000.0</td>\n",
              "      <td>938000.0</td>\n",
              "      <td>1044000.0</td>\n",
              "      <td>1150000.0</td>\n",
              "    </tr>\n",
              "    <tr>\n",
              "      <th>Comedy</th>\n",
              "      <td>3.0</td>\n",
              "      <td>1.443333e+06</td>\n",
              "      <td>3.700450e+05</td>\n",
              "      <td>1070000.0</td>\n",
              "      <td>1260000.0</td>\n",
              "      <td>1450000.0</td>\n",
              "      <td>1630000.0</td>\n",
              "      <td>1810000.0</td>\n",
              "    </tr>\n",
              "    <tr>\n",
              "      <th>Education</th>\n",
              "      <td>76.0</td>\n",
              "      <td>1.618158e+06</td>\n",
              "      <td>1.153732e+06</td>\n",
              "      <td>750000.0</td>\n",
              "      <td>956500.0</td>\n",
              "      <td>1225000.0</td>\n",
              "      <td>1882500.0</td>\n",
              "      <td>7220000.0</td>\n",
              "    </tr>\n",
              "    <tr>\n",
              "      <th>Entertainment</th>\n",
              "      <td>48.0</td>\n",
              "      <td>2.785812e+06</td>\n",
              "      <td>3.805880e+06</td>\n",
              "      <td>729000.0</td>\n",
              "      <td>944250.0</td>\n",
              "      <td>1350000.0</td>\n",
              "      <td>2680000.0</td>\n",
              "      <td>19200000.0</td>\n",
              "    </tr>\n",
              "    <tr>\n",
              "      <th>Film &amp; Animation</th>\n",
              "      <td>3.0</td>\n",
              "      <td>2.214333e+06</td>\n",
              "      <td>2.335704e+06</td>\n",
              "      <td>792000.0</td>\n",
              "      <td>866500.0</td>\n",
              "      <td>941000.0</td>\n",
              "      <td>2925500.0</td>\n",
              "      <td>4910000.0</td>\n",
              "    </tr>\n",
              "    <tr>\n",
              "      <th>Gaming</th>\n",
              "      <td>4.0</td>\n",
              "      <td>1.597500e+06</td>\n",
              "      <td>3.177394e+05</td>\n",
              "      <td>1180000.0</td>\n",
              "      <td>1472500.0</td>\n",
              "      <td>1635000.0</td>\n",
              "      <td>1760000.0</td>\n",
              "      <td>1940000.0</td>\n",
              "    </tr>\n",
              "    <tr>\n",
              "      <th>Howto &amp; Style</th>\n",
              "      <td>21.0</td>\n",
              "      <td>1.608619e+06</td>\n",
              "      <td>9.306674e+05</td>\n",
              "      <td>734000.0</td>\n",
              "      <td>939000.0</td>\n",
              "      <td>1170000.0</td>\n",
              "      <td>2160000.0</td>\n",
              "      <td>3870000.0</td>\n",
              "    </tr>\n",
              "    <tr>\n",
              "      <th>Music</th>\n",
              "      <td>22.0</td>\n",
              "      <td>2.193045e+06</td>\n",
              "      <td>2.078981e+06</td>\n",
              "      <td>751000.0</td>\n",
              "      <td>940250.0</td>\n",
              "      <td>1630000.0</td>\n",
              "      <td>2247500.0</td>\n",
              "      <td>9820000.0</td>\n",
              "    </tr>\n",
              "    <tr>\n",
              "      <th>News &amp; Politics</th>\n",
              "      <td>26.0</td>\n",
              "      <td>2.530846e+06</td>\n",
              "      <td>2.050875e+06</td>\n",
              "      <td>731000.0</td>\n",
              "      <td>1357500.0</td>\n",
              "      <td>1665000.0</td>\n",
              "      <td>3485000.0</td>\n",
              "      <td>8700000.0</td>\n",
              "    </tr>\n",
              "    <tr>\n",
              "      <th>Nonprofits &amp; Activism</th>\n",
              "      <td>1.0</td>\n",
              "      <td>7.310000e+05</td>\n",
              "      <td>NaN</td>\n",
              "      <td>731000.0</td>\n",
              "      <td>731000.0</td>\n",
              "      <td>731000.0</td>\n",
              "      <td>731000.0</td>\n",
              "      <td>731000.0</td>\n",
              "    </tr>\n",
              "    <tr>\n",
              "      <th>People &amp; Blogs</th>\n",
              "      <td>30.0</td>\n",
              "      <td>1.332133e+06</td>\n",
              "      <td>9.590698e+05</td>\n",
              "      <td>743000.0</td>\n",
              "      <td>836250.0</td>\n",
              "      <td>987000.0</td>\n",
              "      <td>1247500.0</td>\n",
              "      <td>5150000.0</td>\n",
              "    </tr>\n",
              "    <tr>\n",
              "      <th>Science &amp; Technology</th>\n",
              "      <td>5.0</td>\n",
              "      <td>1.367200e+06</td>\n",
              "      <td>4.938514e+05</td>\n",
              "      <td>756000.0</td>\n",
              "      <td>1180000.0</td>\n",
              "      <td>1230000.0</td>\n",
              "      <td>1600000.0</td>\n",
              "      <td>2070000.0</td>\n",
              "    </tr>\n",
              "    <tr>\n",
              "      <th>Sports</th>\n",
              "      <td>7.0</td>\n",
              "      <td>1.788714e+06</td>\n",
              "      <td>8.222337e+05</td>\n",
              "      <td>851000.0</td>\n",
              "      <td>1275000.0</td>\n",
              "      <td>1660000.0</td>\n",
              "      <td>2205000.0</td>\n",
              "      <td>3050000.0</td>\n",
              "    </tr>\n",
              "    <tr>\n",
              "      <th>Travel &amp; Events</th>\n",
              "      <td>2.0</td>\n",
              "      <td>9.780000e+05</td>\n",
              "      <td>2.149605e+05</td>\n",
              "      <td>826000.0</td>\n",
              "      <td>902000.0</td>\n",
              "      <td>978000.0</td>\n",
              "      <td>1054000.0</td>\n",
              "      <td>1130000.0</td>\n",
              "    </tr>\n",
              "  </tbody>\n",
              "</table>\n",
              "</div>"
            ],
            "text/plain": [
              "                      Subscribers                ...                       \n",
              "                            count          mean  ...        75%         max\n",
              "Category                                         ...                       \n",
              "Autos & Vehicles              2.0  9.380000e+05  ...  1044000.0   1150000.0\n",
              "Comedy                        3.0  1.443333e+06  ...  1630000.0   1810000.0\n",
              "Education                    76.0  1.618158e+06  ...  1882500.0   7220000.0\n",
              "Entertainment                48.0  2.785812e+06  ...  2680000.0  19200000.0\n",
              "Film & Animation              3.0  2.214333e+06  ...  2925500.0   4910000.0\n",
              "Gaming                        4.0  1.597500e+06  ...  1760000.0   1940000.0\n",
              "Howto & Style                21.0  1.608619e+06  ...  2160000.0   3870000.0\n",
              "Music                        22.0  2.193045e+06  ...  2247500.0   9820000.0\n",
              "News & Politics              26.0  2.530846e+06  ...  3485000.0   8700000.0\n",
              "Nonprofits & Activism         1.0  7.310000e+05  ...   731000.0    731000.0\n",
              "People & Blogs               30.0  1.332133e+06  ...  1247500.0   5150000.0\n",
              "Science & Technology          5.0  1.367200e+06  ...  1600000.0   2070000.0\n",
              "Sports                        7.0  1.788714e+06  ...  2205000.0   3050000.0\n",
              "Travel & Events               2.0  9.780000e+05  ...  1054000.0   1130000.0\n",
              "\n",
              "[14 rows x 8 columns]"
            ]
          },
          "metadata": {
            "tags": []
          },
          "execution_count": 17
        }
      ]
    },
    {
      "cell_type": "code",
      "metadata": {
        "colab": {
          "base_uri": "https://localhost:8080/"
        },
        "id": "O-kwp52t1Agr",
        "outputId": "004ff517-61fe-418b-9592-d4ed64762eb8"
      },
      "source": [
        "x=[];\n",
        "y=[];\n",
        "dff=df.groupby(['Category'])\n",
        "for group in dff:\n",
        "    x.append(group[0])\n",
        "    y.append(group[1]['Subscribers'].sum())\n",
        "    print(group[0],end='     Total Subscribers:')\n",
        "    print(group[1]['Subscribers'].sum())"
      ],
      "execution_count": 18,
      "outputs": [
        {
          "output_type": "stream",
          "text": [
            "Autos & Vehicles     Total Subscribers:1876000.0\n",
            "Comedy     Total Subscribers:4330000.0\n",
            "Education     Total Subscribers:122980000.0\n",
            "Entertainment     Total Subscribers:133719000.0\n",
            "Film & Animation     Total Subscribers:6643000.0\n",
            "Gaming     Total Subscribers:6390000.0\n",
            "Howto & Style     Total Subscribers:33781000.0\n",
            "Music     Total Subscribers:48247000.0\n",
            "News & Politics     Total Subscribers:65802000.0\n",
            "Nonprofits & Activism     Total Subscribers:731000.0\n",
            "People & Blogs     Total Subscribers:39964000.0\n",
            "Science & Technology     Total Subscribers:6836000.0\n",
            "Sports     Total Subscribers:12521000.0\n",
            "Travel & Events     Total Subscribers:1956000.0\n"
          ],
          "name": "stdout"
        }
      ]
    },
    {
      "cell_type": "code",
      "metadata": {
        "colab": {
          "base_uri": "https://localhost:8080/",
          "height": 430
        },
        "id": "77pX7tcP1F5C",
        "outputId": "e85328c0-6efe-4c9e-dd1a-7ef7a53638e0"
      },
      "source": [
        "plt.figure(figsize=(28,10))\n",
        "plt.title('TOTAL SUBCSRIBERS PER CATEGORY')\n",
        "plt.xlabel('Categories')\n",
        "plt.ylabel('Subscribers')\n",
        "plt.bar(x,y)\n",
        "plt.show()"
      ],
      "execution_count": 19,
      "outputs": [
        {
          "output_type": "display_data",
          "data": {
            "image/png": "[encoded data removed]",
            "text/plain": [
              "<Figure size 2016x720 with 1 Axes>"
            ]
          },
          "metadata": {
            "tags": [],
            "needs_background": "light"
          }
        }
      ]
    },
    {
      "cell_type": "code",
      "metadata": {
        "id": "uHmqS6zd1KjM"
      },
      "source": [
        ""
      ],
      "execution_count": null,
      "outputs": []
    }
  ]
}